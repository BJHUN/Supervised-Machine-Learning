{
 "cells": [
  {
   "cell_type": "code",
   "execution_count": 37,
   "metadata": {},
   "outputs": [],
   "source": [
    "import numpy as np\n",
    "import pandas as pd\n",
    "from pathlib import Path\n",
    "import matplotlib.pyplot as plt\n"
   ]
  },
  {
   "cell_type": "code",
   "execution_count": 39,
   "metadata": {},
   "outputs": [],
   "source": [
    "from sklearn.linear_model import LogisticRegression\n",
    "from sklearn.ensemble import RandomForestClassifier\n",
    "from sklearn.preprocessing import StandardScaler\n",
    "from sklearn.metrics import confusion_matrix\n",
    "from sklearn.metrics import ConfusionMatrixDisplay\n",
    "from sklearn.metrics import classification_report"
   ]
  },
  {
   "cell_type": "code",
   "execution_count": 3,
   "metadata": {},
   "outputs": [],
   "source": [
    "train_df = pd.read_csv(Path('Resources/2019loans.csv'))\n",
    "test_df = pd.read_csv(Path('Resources/2020Q1loans.csv'))"
   ]
  },
  {
   "cell_type": "code",
   "execution_count": 4,
   "metadata": {},
   "outputs": [
    {
     "data": {
      "text/html": [
       "<div>\n",
       "<style scoped>\n",
       "    .dataframe tbody tr th:only-of-type {\n",
       "        vertical-align: middle;\n",
       "    }\n",
       "\n",
       "    .dataframe tbody tr th {\n",
       "        vertical-align: top;\n",
       "    }\n",
       "\n",
       "    .dataframe thead th {\n",
       "        text-align: right;\n",
       "    }\n",
       "</style>\n",
       "<table border=\"1\" class=\"dataframe\">\n",
       "  <thead>\n",
       "    <tr style=\"text-align: right;\">\n",
       "      <th></th>\n",
       "      <th>Unnamed: 0</th>\n",
       "      <th>index</th>\n",
       "      <th>loan_amnt</th>\n",
       "      <th>int_rate</th>\n",
       "      <th>installment</th>\n",
       "      <th>home_ownership</th>\n",
       "      <th>annual_inc</th>\n",
       "      <th>verification_status</th>\n",
       "      <th>loan_status</th>\n",
       "      <th>pymnt_plan</th>\n",
       "      <th>...</th>\n",
       "      <th>pct_tl_nvr_dlq</th>\n",
       "      <th>percent_bc_gt_75</th>\n",
       "      <th>pub_rec_bankruptcies</th>\n",
       "      <th>tax_liens</th>\n",
       "      <th>tot_hi_cred_lim</th>\n",
       "      <th>total_bal_ex_mort</th>\n",
       "      <th>total_bc_limit</th>\n",
       "      <th>total_il_high_credit_limit</th>\n",
       "      <th>hardship_flag</th>\n",
       "      <th>debt_settlement_flag</th>\n",
       "    </tr>\n",
       "  </thead>\n",
       "  <tbody>\n",
       "    <tr>\n",
       "      <th>0</th>\n",
       "      <td>57107</td>\n",
       "      <td>57107</td>\n",
       "      <td>13375.0</td>\n",
       "      <td>0.1797</td>\n",
       "      <td>483.34</td>\n",
       "      <td>MORTGAGE</td>\n",
       "      <td>223000.0</td>\n",
       "      <td>Not Verified</td>\n",
       "      <td>low_risk</td>\n",
       "      <td>n</td>\n",
       "      <td>...</td>\n",
       "      <td>100.0</td>\n",
       "      <td>50.0</td>\n",
       "      <td>0.0</td>\n",
       "      <td>0.0</td>\n",
       "      <td>577150.0</td>\n",
       "      <td>122018.0</td>\n",
       "      <td>32000.0</td>\n",
       "      <td>170200.0</td>\n",
       "      <td>N</td>\n",
       "      <td>N</td>\n",
       "    </tr>\n",
       "    <tr>\n",
       "      <th>1</th>\n",
       "      <td>141451</td>\n",
       "      <td>141451</td>\n",
       "      <td>21000.0</td>\n",
       "      <td>0.1308</td>\n",
       "      <td>478.68</td>\n",
       "      <td>MORTGAGE</td>\n",
       "      <td>123000.0</td>\n",
       "      <td>Source Verified</td>\n",
       "      <td>low_risk</td>\n",
       "      <td>n</td>\n",
       "      <td>...</td>\n",
       "      <td>85.0</td>\n",
       "      <td>33.3</td>\n",
       "      <td>0.0</td>\n",
       "      <td>0.0</td>\n",
       "      <td>132750.0</td>\n",
       "      <td>27896.0</td>\n",
       "      <td>15900.0</td>\n",
       "      <td>35398.0</td>\n",
       "      <td>N</td>\n",
       "      <td>N</td>\n",
       "    </tr>\n",
       "    <tr>\n",
       "      <th>2</th>\n",
       "      <td>321143</td>\n",
       "      <td>321143</td>\n",
       "      <td>20000.0</td>\n",
       "      <td>0.1240</td>\n",
       "      <td>448.95</td>\n",
       "      <td>MORTGAGE</td>\n",
       "      <td>197000.0</td>\n",
       "      <td>Source Verified</td>\n",
       "      <td>low_risk</td>\n",
       "      <td>n</td>\n",
       "      <td>...</td>\n",
       "      <td>85.7</td>\n",
       "      <td>33.3</td>\n",
       "      <td>0.0</td>\n",
       "      <td>0.0</td>\n",
       "      <td>628160.0</td>\n",
       "      <td>114043.0</td>\n",
       "      <td>22600.0</td>\n",
       "      <td>90340.0</td>\n",
       "      <td>N</td>\n",
       "      <td>N</td>\n",
       "    </tr>\n",
       "    <tr>\n",
       "      <th>3</th>\n",
       "      <td>11778</td>\n",
       "      <td>11778</td>\n",
       "      <td>3000.0</td>\n",
       "      <td>0.1240</td>\n",
       "      <td>100.22</td>\n",
       "      <td>RENT</td>\n",
       "      <td>45000.0</td>\n",
       "      <td>Not Verified</td>\n",
       "      <td>low_risk</td>\n",
       "      <td>n</td>\n",
       "      <td>...</td>\n",
       "      <td>100.0</td>\n",
       "      <td>16.7</td>\n",
       "      <td>1.0</td>\n",
       "      <td>0.0</td>\n",
       "      <td>42006.0</td>\n",
       "      <td>20761.0</td>\n",
       "      <td>19900.0</td>\n",
       "      <td>15406.0</td>\n",
       "      <td>N</td>\n",
       "      <td>N</td>\n",
       "    </tr>\n",
       "    <tr>\n",
       "      <th>4</th>\n",
       "      <td>169382</td>\n",
       "      <td>169382</td>\n",
       "      <td>30000.0</td>\n",
       "      <td>0.1612</td>\n",
       "      <td>1056.49</td>\n",
       "      <td>MORTGAGE</td>\n",
       "      <td>133000.0</td>\n",
       "      <td>Source Verified</td>\n",
       "      <td>low_risk</td>\n",
       "      <td>n</td>\n",
       "      <td>...</td>\n",
       "      <td>100.0</td>\n",
       "      <td>66.7</td>\n",
       "      <td>0.0</td>\n",
       "      <td>0.0</td>\n",
       "      <td>283248.0</td>\n",
       "      <td>109056.0</td>\n",
       "      <td>79500.0</td>\n",
       "      <td>58778.0</td>\n",
       "      <td>N</td>\n",
       "      <td>N</td>\n",
       "    </tr>\n",
       "    <tr>\n",
       "      <th>5</th>\n",
       "      <td>31295</td>\n",
       "      <td>31295</td>\n",
       "      <td>6500.0</td>\n",
       "      <td>0.1614</td>\n",
       "      <td>228.98</td>\n",
       "      <td>MORTGAGE</td>\n",
       "      <td>65000.0</td>\n",
       "      <td>Not Verified</td>\n",
       "      <td>low_risk</td>\n",
       "      <td>n</td>\n",
       "      <td>...</td>\n",
       "      <td>92.3</td>\n",
       "      <td>50.0</td>\n",
       "      <td>1.0</td>\n",
       "      <td>0.0</td>\n",
       "      <td>64660.0</td>\n",
       "      <td>39487.0</td>\n",
       "      <td>12800.0</td>\n",
       "      <td>42060.0</td>\n",
       "      <td>N</td>\n",
       "      <td>N</td>\n",
       "    </tr>\n",
       "    <tr>\n",
       "      <th>6</th>\n",
       "      <td>173238</td>\n",
       "      <td>173238</td>\n",
       "      <td>40000.0</td>\n",
       "      <td>0.1240</td>\n",
       "      <td>897.89</td>\n",
       "      <td>MORTGAGE</td>\n",
       "      <td>171000.0</td>\n",
       "      <td>Not Verified</td>\n",
       "      <td>low_risk</td>\n",
       "      <td>n</td>\n",
       "      <td>...</td>\n",
       "      <td>88.9</td>\n",
       "      <td>75.0</td>\n",
       "      <td>0.0</td>\n",
       "      <td>0.0</td>\n",
       "      <td>772030.0</td>\n",
       "      <td>83509.0</td>\n",
       "      <td>41200.0</td>\n",
       "      <td>81300.0</td>\n",
       "      <td>N</td>\n",
       "      <td>N</td>\n",
       "    </tr>\n",
       "    <tr>\n",
       "      <th>7</th>\n",
       "      <td>116755</td>\n",
       "      <td>116755</td>\n",
       "      <td>5000.0</td>\n",
       "      <td>0.1719</td>\n",
       "      <td>178.74</td>\n",
       "      <td>MORTGAGE</td>\n",
       "      <td>55000.0</td>\n",
       "      <td>Not Verified</td>\n",
       "      <td>low_risk</td>\n",
       "      <td>n</td>\n",
       "      <td>...</td>\n",
       "      <td>90.0</td>\n",
       "      <td>0.0</td>\n",
       "      <td>0.0</td>\n",
       "      <td>0.0</td>\n",
       "      <td>17075.0</td>\n",
       "      <td>11244.0</td>\n",
       "      <td>500.0</td>\n",
       "      <td>14275.0</td>\n",
       "      <td>N</td>\n",
       "      <td>N</td>\n",
       "    </tr>\n",
       "    <tr>\n",
       "      <th>8</th>\n",
       "      <td>170311</td>\n",
       "      <td>170311</td>\n",
       "      <td>6000.0</td>\n",
       "      <td>0.1102</td>\n",
       "      <td>196.49</td>\n",
       "      <td>OWN</td>\n",
       "      <td>36000.0</td>\n",
       "      <td>Not Verified</td>\n",
       "      <td>low_risk</td>\n",
       "      <td>n</td>\n",
       "      <td>...</td>\n",
       "      <td>100.0</td>\n",
       "      <td>0.0</td>\n",
       "      <td>1.0</td>\n",
       "      <td>0.0</td>\n",
       "      <td>65200.0</td>\n",
       "      <td>21103.0</td>\n",
       "      <td>43300.0</td>\n",
       "      <td>12100.0</td>\n",
       "      <td>N</td>\n",
       "      <td>N</td>\n",
       "    </tr>\n",
       "    <tr>\n",
       "      <th>9</th>\n",
       "      <td>254794</td>\n",
       "      <td>254794</td>\n",
       "      <td>10625.0</td>\n",
       "      <td>0.1102</td>\n",
       "      <td>347.95</td>\n",
       "      <td>RENT</td>\n",
       "      <td>73000.0</td>\n",
       "      <td>Source Verified</td>\n",
       "      <td>low_risk</td>\n",
       "      <td>n</td>\n",
       "      <td>...</td>\n",
       "      <td>91.9</td>\n",
       "      <td>30.0</td>\n",
       "      <td>0.0</td>\n",
       "      <td>0.0</td>\n",
       "      <td>41869.0</td>\n",
       "      <td>11859.0</td>\n",
       "      <td>24500.0</td>\n",
       "      <td>10169.0</td>\n",
       "      <td>N</td>\n",
       "      <td>N</td>\n",
       "    </tr>\n",
       "  </tbody>\n",
       "</table>\n",
       "<p>10 rows × 86 columns</p>\n",
       "</div>"
      ],
      "text/plain": [
       "   Unnamed: 0   index  loan_amnt  int_rate  installment home_ownership  \\\n",
       "0       57107   57107    13375.0    0.1797       483.34       MORTGAGE   \n",
       "1      141451  141451    21000.0    0.1308       478.68       MORTGAGE   \n",
       "2      321143  321143    20000.0    0.1240       448.95       MORTGAGE   \n",
       "3       11778   11778     3000.0    0.1240       100.22           RENT   \n",
       "4      169382  169382    30000.0    0.1612      1056.49       MORTGAGE   \n",
       "5       31295   31295     6500.0    0.1614       228.98       MORTGAGE   \n",
       "6      173238  173238    40000.0    0.1240       897.89       MORTGAGE   \n",
       "7      116755  116755     5000.0    0.1719       178.74       MORTGAGE   \n",
       "8      170311  170311     6000.0    0.1102       196.49            OWN   \n",
       "9      254794  254794    10625.0    0.1102       347.95           RENT   \n",
       "\n",
       "   annual_inc verification_status loan_status pymnt_plan  ...  pct_tl_nvr_dlq  \\\n",
       "0    223000.0        Not Verified    low_risk          n  ...           100.0   \n",
       "1    123000.0     Source Verified    low_risk          n  ...            85.0   \n",
       "2    197000.0     Source Verified    low_risk          n  ...            85.7   \n",
       "3     45000.0        Not Verified    low_risk          n  ...           100.0   \n",
       "4    133000.0     Source Verified    low_risk          n  ...           100.0   \n",
       "5     65000.0        Not Verified    low_risk          n  ...            92.3   \n",
       "6    171000.0        Not Verified    low_risk          n  ...            88.9   \n",
       "7     55000.0        Not Verified    low_risk          n  ...            90.0   \n",
       "8     36000.0        Not Verified    low_risk          n  ...           100.0   \n",
       "9     73000.0     Source Verified    low_risk          n  ...            91.9   \n",
       "\n",
       "   percent_bc_gt_75  pub_rec_bankruptcies  tax_liens  tot_hi_cred_lim  \\\n",
       "0              50.0                   0.0        0.0         577150.0   \n",
       "1              33.3                   0.0        0.0         132750.0   \n",
       "2              33.3                   0.0        0.0         628160.0   \n",
       "3              16.7                   1.0        0.0          42006.0   \n",
       "4              66.7                   0.0        0.0         283248.0   \n",
       "5              50.0                   1.0        0.0          64660.0   \n",
       "6              75.0                   0.0        0.0         772030.0   \n",
       "7               0.0                   0.0        0.0          17075.0   \n",
       "8               0.0                   1.0        0.0          65200.0   \n",
       "9              30.0                   0.0        0.0          41869.0   \n",
       "\n",
       "   total_bal_ex_mort  total_bc_limit total_il_high_credit_limit  \\\n",
       "0           122018.0         32000.0                   170200.0   \n",
       "1            27896.0         15900.0                    35398.0   \n",
       "2           114043.0         22600.0                    90340.0   \n",
       "3            20761.0         19900.0                    15406.0   \n",
       "4           109056.0         79500.0                    58778.0   \n",
       "5            39487.0         12800.0                    42060.0   \n",
       "6            83509.0         41200.0                    81300.0   \n",
       "7            11244.0           500.0                    14275.0   \n",
       "8            21103.0         43300.0                    12100.0   \n",
       "9            11859.0         24500.0                    10169.0   \n",
       "\n",
       "   hardship_flag  debt_settlement_flag  \n",
       "0              N                     N  \n",
       "1              N                     N  \n",
       "2              N                     N  \n",
       "3              N                     N  \n",
       "4              N                     N  \n",
       "5              N                     N  \n",
       "6              N                     N  \n",
       "7              N                     N  \n",
       "8              N                     N  \n",
       "9              N                     N  \n",
       "\n",
       "[10 rows x 86 columns]"
      ]
     },
     "execution_count": 4,
     "metadata": {},
     "output_type": "execute_result"
    }
   ],
   "source": [
    "train_df.head(10)"
   ]
  },
  {
   "cell_type": "code",
   "execution_count": 5,
   "metadata": {},
   "outputs": [
    {
     "data": {
      "text/plain": [
       "low_risk     6090\n",
       "high_risk    6090\n",
       "Name: loan_status, dtype: int64"
      ]
     },
     "execution_count": 5,
     "metadata": {},
     "output_type": "execute_result"
    }
   ],
   "source": [
    "train_df[\"loan_status\"].value_counts()"
   ]
  },
  {
   "cell_type": "code",
   "execution_count": 6,
   "metadata": {},
   "outputs": [
    {
     "name": "stdout",
     "output_type": "stream",
     "text": [
      "<class 'pandas.core.frame.DataFrame'>\n",
      "RangeIndex: 12180 entries, 0 to 12179\n",
      "Data columns (total 86 columns):\n",
      " #   Column                      Non-Null Count  Dtype  \n",
      "---  ------                      --------------  -----  \n",
      " 0   Unnamed: 0                  12180 non-null  int64  \n",
      " 1   index                       12180 non-null  int64  \n",
      " 2   loan_amnt                   12180 non-null  float64\n",
      " 3   int_rate                    12180 non-null  float64\n",
      " 4   installment                 12180 non-null  float64\n",
      " 5   home_ownership              12180 non-null  object \n",
      " 6   annual_inc                  12180 non-null  float64\n",
      " 7   verification_status         12180 non-null  object \n",
      " 8   loan_status                 12180 non-null  object \n",
      " 9   pymnt_plan                  12180 non-null  object \n",
      " 10  dti                         12180 non-null  float64\n",
      " 11  delinq_2yrs                 12180 non-null  float64\n",
      " 12  inq_last_6mths              12180 non-null  float64\n",
      " 13  open_acc                    12180 non-null  float64\n",
      " 14  pub_rec                     12180 non-null  float64\n",
      " 15  revol_bal                   12180 non-null  float64\n",
      " 16  total_acc                   12180 non-null  float64\n",
      " 17  initial_list_status         12180 non-null  object \n",
      " 18  out_prncp                   12180 non-null  float64\n",
      " 19  out_prncp_inv               12180 non-null  float64\n",
      " 20  total_pymnt                 12180 non-null  float64\n",
      " 21  total_pymnt_inv             12180 non-null  float64\n",
      " 22  total_rec_prncp             12180 non-null  float64\n",
      " 23  total_rec_int               12180 non-null  float64\n",
      " 24  total_rec_late_fee          12180 non-null  float64\n",
      " 25  recoveries                  12180 non-null  float64\n",
      " 26  collection_recovery_fee     12180 non-null  float64\n",
      " 27  last_pymnt_amnt             12180 non-null  float64\n",
      " 28  collections_12_mths_ex_med  12180 non-null  float64\n",
      " 29  policy_code                 12180 non-null  float64\n",
      " 30  application_type            12180 non-null  object \n",
      " 31  acc_now_delinq              12180 non-null  float64\n",
      " 32  tot_coll_amt                12180 non-null  float64\n",
      " 33  tot_cur_bal                 12180 non-null  float64\n",
      " 34  open_acc_6m                 12180 non-null  float64\n",
      " 35  open_act_il                 12180 non-null  float64\n",
      " 36  open_il_12m                 12180 non-null  float64\n",
      " 37  open_il_24m                 12180 non-null  float64\n",
      " 38  mths_since_rcnt_il          12180 non-null  float64\n",
      " 39  total_bal_il                12180 non-null  float64\n",
      " 40  il_util                     12180 non-null  float64\n",
      " 41  open_rv_12m                 12180 non-null  float64\n",
      " 42  open_rv_24m                 12180 non-null  float64\n",
      " 43  max_bal_bc                  12180 non-null  float64\n",
      " 44  all_util                    12180 non-null  float64\n",
      " 45  total_rev_hi_lim            12180 non-null  float64\n",
      " 46  inq_fi                      12180 non-null  float64\n",
      " 47  total_cu_tl                 12180 non-null  float64\n",
      " 48  inq_last_12m                12180 non-null  float64\n",
      " 49  acc_open_past_24mths        12180 non-null  float64\n",
      " 50  avg_cur_bal                 12180 non-null  float64\n",
      " 51  bc_open_to_buy              12180 non-null  float64\n",
      " 52  bc_util                     12180 non-null  float64\n",
      " 53  chargeoff_within_12_mths    12180 non-null  float64\n",
      " 54  delinq_amnt                 12180 non-null  float64\n",
      " 55  mo_sin_old_il_acct          12180 non-null  float64\n",
      " 56  mo_sin_old_rev_tl_op        12180 non-null  float64\n",
      " 57  mo_sin_rcnt_rev_tl_op       12180 non-null  float64\n",
      " 58  mo_sin_rcnt_tl              12180 non-null  float64\n",
      " 59  mort_acc                    12180 non-null  float64\n",
      " 60  mths_since_recent_bc        12180 non-null  float64\n",
      " 61  mths_since_recent_inq       12180 non-null  float64\n",
      " 62  num_accts_ever_120_pd       12180 non-null  float64\n",
      " 63  num_actv_bc_tl              12180 non-null  float64\n",
      " 64  num_actv_rev_tl             12180 non-null  float64\n",
      " 65  num_bc_sats                 12180 non-null  float64\n",
      " 66  num_bc_tl                   12180 non-null  float64\n",
      " 67  num_il_tl                   12180 non-null  float64\n",
      " 68  num_op_rev_tl               12180 non-null  float64\n",
      " 69  num_rev_accts               12180 non-null  float64\n",
      " 70  num_rev_tl_bal_gt_0         12180 non-null  float64\n",
      " 71  num_sats                    12180 non-null  float64\n",
      " 72  num_tl_120dpd_2m            12180 non-null  float64\n",
      " 73  num_tl_30dpd                12180 non-null  float64\n",
      " 74  num_tl_90g_dpd_24m          12180 non-null  float64\n",
      " 75  num_tl_op_past_12m          12180 non-null  float64\n",
      " 76  pct_tl_nvr_dlq              12180 non-null  float64\n",
      " 77  percent_bc_gt_75            12180 non-null  float64\n",
      " 78  pub_rec_bankruptcies        12180 non-null  float64\n",
      " 79  tax_liens                   12180 non-null  float64\n",
      " 80  tot_hi_cred_lim             12180 non-null  float64\n",
      " 81  total_bal_ex_mort           12180 non-null  float64\n",
      " 82  total_bc_limit              12180 non-null  float64\n",
      " 83  total_il_high_credit_limit  12180 non-null  float64\n",
      " 84  hardship_flag               12180 non-null  object \n",
      " 85  debt_settlement_flag        12180 non-null  object \n",
      "dtypes: float64(76), int64(2), object(8)\n",
      "memory usage: 8.0+ MB\n"
     ]
    }
   ],
   "source": [
    "train_df.info()"
   ]
  },
  {
   "cell_type": "code",
   "execution_count": 7,
   "metadata": {},
   "outputs": [
    {
     "data": {
      "text/plain": [
       "Index(['home_ownership', 'verification_status', 'loan_status', 'pymnt_plan',\n",
       "       'initial_list_status', 'application_type', 'hardship_flag',\n",
       "       'debt_settlement_flag'],\n",
       "      dtype='object')"
      ]
     },
     "execution_count": 7,
     "metadata": {},
     "output_type": "execute_result"
    }
   ],
   "source": [
    "# Convert categorical data to numeric and separate target feature for training data\n",
    "cat_columns = train_df.select_dtypes(include= \"object\").columns\n",
    "cat_columns"
   ]
  },
  {
   "cell_type": "code",
   "execution_count": 8,
   "metadata": {},
   "outputs": [
    {
     "name": "stdout",
     "output_type": "stream",
     "text": [
      "MORTGAGE    5800\n",
      "RENT        4944\n",
      "OWN         1371\n",
      "ANY           65\n",
      "Name: home_ownership, dtype: int64\n",
      "-----------\n",
      "Not Verified       5301\n",
      "Source Verified    4881\n",
      "Verified           1998\n",
      "Name: verification_status, dtype: int64\n",
      "-----------\n",
      "low_risk     6090\n",
      "high_risk    6090\n",
      "Name: loan_status, dtype: int64\n",
      "-----------\n",
      "n    12180\n",
      "Name: pymnt_plan, dtype: int64\n",
      "-----------\n",
      "w    11158\n",
      "f     1022\n",
      "Name: initial_list_status, dtype: int64\n",
      "-----------\n",
      "Individual    10400\n",
      "Joint App      1780\n",
      "Name: application_type, dtype: int64\n",
      "-----------\n",
      "N    11832\n",
      "Y      348\n",
      "Name: hardship_flag, dtype: int64\n",
      "-----------\n",
      "N    12175\n",
      "Y        5\n",
      "Name: debt_settlement_flag, dtype: int64\n",
      "-----------\n"
     ]
    }
   ],
   "source": [
    "# How many total values are in the cat_columns\n",
    "for column in train_df[cat_columns]:\n",
    "    print(train_df[column].value_counts())\n",
    "    print(\"-----------\")"
   ]
  },
  {
   "cell_type": "code",
   "execution_count": 9,
   "metadata": {},
   "outputs": [
    {
     "data": {
      "text/plain": [
       "(12180, 86)"
      ]
     },
     "execution_count": 9,
     "metadata": {},
     "output_type": "execute_result"
    }
   ],
   "source": [
    "# Looking at the shape of the train_df\n",
    "train_df.shape"
   ]
  },
  {
   "cell_type": "code",
   "execution_count": 10,
   "metadata": {},
   "outputs": [
    {
     "data": {
      "text/plain": [
       "(12180, 85)"
      ]
     },
     "execution_count": 10,
     "metadata": {},
     "output_type": "execute_result"
    }
   ],
   "source": [
    "# split out X_train\n",
    "X_train = train_df.drop(columns=[\"loan_status\"])\n",
    "X_train.shape"
   ]
  },
  {
   "cell_type": "code",
   "execution_count": 11,
   "metadata": {},
   "outputs": [
    {
     "data": {
      "text/plain": [
       "0         low_risk\n",
       "1         low_risk\n",
       "2         low_risk\n",
       "3         low_risk\n",
       "4         low_risk\n",
       "           ...    \n",
       "12175    high_risk\n",
       "12176    high_risk\n",
       "12177    high_risk\n",
       "12178    high_risk\n",
       "12179    high_risk\n",
       "Name: loan_status, Length: 12180, dtype: object"
      ]
     },
     "execution_count": 11,
     "metadata": {},
     "output_type": "execute_result"
    }
   ],
   "source": [
    "#split out y_train\n",
    "y_train = train_df[\"loan_status\"]\n",
    "y_train"
   ]
  },
  {
   "cell_type": "code",
   "execution_count": 12,
   "metadata": {},
   "outputs": [
    {
     "data": {
      "text/plain": [
       "(12180, 94)"
      ]
     },
     "execution_count": 12,
     "metadata": {},
     "output_type": "execute_result"
    }
   ],
   "source": [
    "# Convert categorical data to numeric and separate target feature for testing data\n",
    "X_train = pd.get_dummies(X_train)\n",
    "X_train.shape\n"
   ]
  },
  {
   "cell_type": "code",
   "execution_count": 13,
   "metadata": {},
   "outputs": [],
   "source": [
    "# Convert categorical data to numeric and separate target feature for testing data\n",
    "X_test = test_df.drop(columns=[\"loan_status\"])\n",
    "y_test = test_df[\"loan_status\"]"
   ]
  },
  {
   "cell_type": "code",
   "execution_count": 14,
   "metadata": {},
   "outputs": [
    {
     "data": {
      "text/plain": [
       "(4702, 85)"
      ]
     },
     "execution_count": 14,
     "metadata": {},
     "output_type": "execute_result"
    }
   ],
   "source": [
    "X_test.shape"
   ]
  },
  {
   "cell_type": "code",
   "execution_count": 15,
   "metadata": {},
   "outputs": [
    {
     "data": {
      "text/plain": [
       "Index(['home_ownership', 'verification_status', 'loan_status', 'pymnt_plan',\n",
       "       'initial_list_status', 'application_type', 'hardship_flag',\n",
       "       'debt_settlement_flag'],\n",
       "      dtype='object')"
      ]
     },
     "execution_count": 15,
     "metadata": {},
     "output_type": "execute_result"
    }
   ],
   "source": [
    "# Convert categorical data to numeric and separate target feature for test data\n",
    "cat_columns = test_df.select_dtypes(include= \"object\").columns\n",
    "cat_columns"
   ]
  },
  {
   "cell_type": "code",
   "execution_count": 16,
   "metadata": {},
   "outputs": [
    {
     "name": "stdout",
     "output_type": "stream",
     "text": [
      "MORTGAGE    2131\n",
      "RENT        2033\n",
      "OWN          533\n",
      "ANY            5\n",
      "Name: home_ownership, dtype: int64\n",
      "-----------\n",
      "Not Verified       2454\n",
      "Source Verified    1715\n",
      "Verified            533\n",
      "Name: verification_status, dtype: int64\n",
      "-----------\n",
      "low_risk     2351\n",
      "high_risk    2351\n",
      "Name: loan_status, dtype: int64\n",
      "-----------\n",
      "n    4702\n",
      "Name: pymnt_plan, dtype: int64\n",
      "-----------\n",
      "w    4377\n",
      "f     325\n",
      "Name: initial_list_status, dtype: int64\n",
      "-----------\n",
      "Individual    4165\n",
      "Joint App      537\n",
      "Name: application_type, dtype: int64\n",
      "-----------\n",
      "N    4621\n",
      "Y      81\n",
      "Name: hardship_flag, dtype: int64\n",
      "-----------\n",
      "N    4702\n",
      "Name: debt_settlement_flag, dtype: int64\n",
      "-----------\n"
     ]
    }
   ],
   "source": [
    "# How many total values are in the cat_columns\n",
    "for column in test_df[cat_columns]:\n",
    "    print(test_df[column].value_counts())\n",
    "    print(\"-----------\")"
   ]
  },
  {
   "cell_type": "code",
   "execution_count": 17,
   "metadata": {},
   "outputs": [
    {
     "data": {
      "text/plain": [
       "(4702, 93)"
      ]
     },
     "execution_count": 17,
     "metadata": {},
     "output_type": "execute_result"
    }
   ],
   "source": [
    "#Use get dummies to convert categorical to numeric\n",
    "X_test = pd.get_dummies(X_test)\n",
    "X_test.shape"
   ]
  },
  {
   "cell_type": "code",
   "execution_count": 18,
   "metadata": {},
   "outputs": [],
   "source": [
    "# add missing dummy variables to testing set\n",
    "#find missing row\n",
    "for column in X_train.columns:\n",
    "    # use conditional statement to check if column is in X_test\n",
    "    if column not in X_test.columns:\n",
    "        # print(column)\n",
    "        X_test[column]= 0\n"
   ]
  },
  {
   "cell_type": "code",
   "execution_count": 19,
   "metadata": {},
   "outputs": [
    {
     "data": {
      "text/plain": [
       "(4702, 94)"
      ]
     },
     "execution_count": 19,
     "metadata": {},
     "output_type": "execute_result"
    }
   ],
   "source": [
    "# Check the shape of X_test\n",
    "X_test.shape"
   ]
  },
  {
   "cell_type": "code",
   "execution_count": 20,
   "metadata": {},
   "outputs": [
    {
     "name": "stdout",
     "output_type": "stream",
     "text": [
      "<class 'pandas.core.frame.DataFrame'>\n",
      "RangeIndex: 4702 entries, 0 to 4701\n",
      "Data columns (total 94 columns):\n",
      " #   Column                               Non-Null Count  Dtype  \n",
      "---  ------                               --------------  -----  \n",
      " 0   Unnamed: 0                           4702 non-null   int64  \n",
      " 1   index                                4702 non-null   int64  \n",
      " 2   loan_amnt                            4702 non-null   float64\n",
      " 3   int_rate                             4702 non-null   float64\n",
      " 4   installment                          4702 non-null   float64\n",
      " 5   annual_inc                           4702 non-null   float64\n",
      " 6   dti                                  4702 non-null   float64\n",
      " 7   delinq_2yrs                          4702 non-null   float64\n",
      " 8   inq_last_6mths                       4702 non-null   float64\n",
      " 9   open_acc                             4702 non-null   float64\n",
      " 10  pub_rec                              4702 non-null   float64\n",
      " 11  revol_bal                            4702 non-null   float64\n",
      " 12  total_acc                            4702 non-null   float64\n",
      " 13  out_prncp                            4702 non-null   float64\n",
      " 14  out_prncp_inv                        4702 non-null   float64\n",
      " 15  total_pymnt                          4702 non-null   float64\n",
      " 16  total_pymnt_inv                      4702 non-null   float64\n",
      " 17  total_rec_prncp                      4702 non-null   float64\n",
      " 18  total_rec_int                        4702 non-null   float64\n",
      " 19  total_rec_late_fee                   4702 non-null   float64\n",
      " 20  recoveries                           4702 non-null   float64\n",
      " 21  collection_recovery_fee              4702 non-null   float64\n",
      " 22  last_pymnt_amnt                      4702 non-null   float64\n",
      " 23  collections_12_mths_ex_med           4702 non-null   float64\n",
      " 24  policy_code                          4702 non-null   float64\n",
      " 25  acc_now_delinq                       4702 non-null   float64\n",
      " 26  tot_coll_amt                         4702 non-null   float64\n",
      " 27  tot_cur_bal                          4702 non-null   float64\n",
      " 28  open_acc_6m                          4702 non-null   float64\n",
      " 29  open_act_il                          4702 non-null   float64\n",
      " 30  open_il_12m                          4702 non-null   float64\n",
      " 31  open_il_24m                          4702 non-null   float64\n",
      " 32  mths_since_rcnt_il                   4702 non-null   float64\n",
      " 33  total_bal_il                         4702 non-null   float64\n",
      " 34  il_util                              4702 non-null   float64\n",
      " 35  open_rv_12m                          4702 non-null   float64\n",
      " 36  open_rv_24m                          4702 non-null   float64\n",
      " 37  max_bal_bc                           4702 non-null   float64\n",
      " 38  all_util                             4702 non-null   float64\n",
      " 39  total_rev_hi_lim                     4702 non-null   float64\n",
      " 40  inq_fi                               4702 non-null   float64\n",
      " 41  total_cu_tl                          4702 non-null   float64\n",
      " 42  inq_last_12m                         4702 non-null   float64\n",
      " 43  acc_open_past_24mths                 4702 non-null   float64\n",
      " 44  avg_cur_bal                          4702 non-null   float64\n",
      " 45  bc_open_to_buy                       4702 non-null   float64\n",
      " 46  bc_util                              4702 non-null   float64\n",
      " 47  chargeoff_within_12_mths             4702 non-null   float64\n",
      " 48  delinq_amnt                          4702 non-null   float64\n",
      " 49  mo_sin_old_il_acct                   4702 non-null   float64\n",
      " 50  mo_sin_old_rev_tl_op                 4702 non-null   float64\n",
      " 51  mo_sin_rcnt_rev_tl_op                4702 non-null   float64\n",
      " 52  mo_sin_rcnt_tl                       4702 non-null   float64\n",
      " 53  mort_acc                             4702 non-null   float64\n",
      " 54  mths_since_recent_bc                 4702 non-null   float64\n",
      " 55  mths_since_recent_inq                4702 non-null   float64\n",
      " 56  num_accts_ever_120_pd                4702 non-null   float64\n",
      " 57  num_actv_bc_tl                       4702 non-null   float64\n",
      " 58  num_actv_rev_tl                      4702 non-null   float64\n",
      " 59  num_bc_sats                          4702 non-null   float64\n",
      " 60  num_bc_tl                            4702 non-null   float64\n",
      " 61  num_il_tl                            4702 non-null   float64\n",
      " 62  num_op_rev_tl                        4702 non-null   float64\n",
      " 63  num_rev_accts                        4702 non-null   float64\n",
      " 64  num_rev_tl_bal_gt_0                  4702 non-null   float64\n",
      " 65  num_sats                             4702 non-null   float64\n",
      " 66  num_tl_120dpd_2m                     4702 non-null   float64\n",
      " 67  num_tl_30dpd                         4702 non-null   float64\n",
      " 68  num_tl_90g_dpd_24m                   4702 non-null   float64\n",
      " 69  num_tl_op_past_12m                   4702 non-null   float64\n",
      " 70  pct_tl_nvr_dlq                       4702 non-null   float64\n",
      " 71  percent_bc_gt_75                     4702 non-null   float64\n",
      " 72  pub_rec_bankruptcies                 4702 non-null   float64\n",
      " 73  tax_liens                            4702 non-null   float64\n",
      " 74  tot_hi_cred_lim                      4702 non-null   float64\n",
      " 75  total_bal_ex_mort                    4702 non-null   float64\n",
      " 76  total_bc_limit                       4702 non-null   float64\n",
      " 77  total_il_high_credit_limit           4702 non-null   float64\n",
      " 78  home_ownership_ANY                   4702 non-null   uint8  \n",
      " 79  home_ownership_MORTGAGE              4702 non-null   uint8  \n",
      " 80  home_ownership_OWN                   4702 non-null   uint8  \n",
      " 81  home_ownership_RENT                  4702 non-null   uint8  \n",
      " 82  verification_status_Not Verified     4702 non-null   uint8  \n",
      " 83  verification_status_Source Verified  4702 non-null   uint8  \n",
      " 84  verification_status_Verified         4702 non-null   uint8  \n",
      " 85  pymnt_plan_n                         4702 non-null   uint8  \n",
      " 86  initial_list_status_f                4702 non-null   uint8  \n",
      " 87  initial_list_status_w                4702 non-null   uint8  \n",
      " 88  application_type_Individual          4702 non-null   uint8  \n",
      " 89  application_type_Joint App           4702 non-null   uint8  \n",
      " 90  hardship_flag_N                      4702 non-null   uint8  \n",
      " 91  hardship_flag_Y                      4702 non-null   uint8  \n",
      " 92  debt_settlement_flag_N               4702 non-null   uint8  \n",
      " 93  debt_settlement_flag_Y               4702 non-null   int64  \n",
      "dtypes: float64(76), int64(3), uint8(15)\n",
      "memory usage: 2.9 MB\n"
     ]
    }
   ],
   "source": [
    "X_test.info()"
   ]
  },
  {
   "cell_type": "code",
   "execution_count": 21,
   "metadata": {},
   "outputs": [
    {
     "name": "stderr",
     "output_type": "stream",
     "text": [
      "C:\\Users\\brand\\anaconda3\\lib\\site-packages\\sklearn\\linear_model\\_logistic.py:763: ConvergenceWarning: lbfgs failed to converge (status=1):\n",
      "STOP: TOTAL NO. of ITERATIONS REACHED LIMIT.\n",
      "\n",
      "Increase the number of iterations (max_iter) or scale the data as shown in:\n",
      "    https://scikit-learn.org/stable/modules/preprocessing.html\n",
      "Please also refer to the documentation for alternative solver options:\n",
      "    https://scikit-learn.org/stable/modules/linear_model.html#logistic-regression\n",
      "  n_iter_i = _check_optimize_result(\n"
     ]
    },
    {
     "data": {
      "text/plain": [
       "0.5253083794130158"
      ]
     },
     "execution_count": 21,
     "metadata": {},
     "output_type": "execute_result"
    }
   ],
   "source": [
    "# Train the Logistic Regression model on the unscaled data and print the model score\n",
    "# Model\n",
    "LR_model = LogisticRegression(random_state= 77)\n",
    "# Fit\n",
    "LR_model.fit(X_train,y_train)\n",
    "# Score\n",
    "LR_model.score(X_test,y_test)"
   ]
  },
  {
   "cell_type": "code",
   "execution_count": 22,
   "metadata": {},
   "outputs": [
    {
     "data": {
      "text/plain": [
       "0.6548277328796257"
      ]
     },
     "execution_count": 22,
     "metadata": {},
     "output_type": "execute_result"
    }
   ],
   "source": [
    "# Train a Random Forest Classifier model and print the model score\n",
    "#Model\n",
    "RFC_model = RandomForestClassifier(random_state= 77)\n",
    "# Fit\n",
    "RFC_model.fit(X_train,y_train)\n",
    "#Score\n",
    "RFC_model.score(X_test,y_test)"
   ]
  },
  {
   "cell_type": "code",
   "execution_count": 23,
   "metadata": {},
   "outputs": [],
   "source": [
    "# Scale the data\n",
    "# Using Standard Scalar \n",
    "# Model\n",
    "scaler = StandardScaler()\n",
    "# Fit\n",
    "scaler = scaler.fit(X_train)\n",
    "#Transform\n",
    "X_train_scaled = scaler.transform(X_train)\n",
    "X_test_scaled = scaler.transform(X_test)\n"
   ]
  },
  {
   "cell_type": "code",
   "execution_count": 24,
   "metadata": {},
   "outputs": [
    {
     "data": {
      "text/plain": [
       "array([[-1.31172014, -1.31172014, -0.39311205,  0.73658452, -0.08760946,\n",
       "         0.79027929,  0.30961463, -0.32002561, -0.69540144,  0.37691739,\n",
       "        -0.35198632,  0.97933871,  1.08333618, -0.07136838, -0.07121699,\n",
       "        -1.09378946, -1.093659  , -0.92422387, -0.9683145 , -0.15098128,\n",
       "         0.        ,  0.        ,  0.05395363, -0.13312632,  0.        ,\n",
       "        -0.00906138, -0.13971415,  1.80631885,  0.78540566,  1.17957176,\n",
       "         2.1409169 ,  3.13618293, -0.51642773,  0.74114448, -0.02074907,\n",
       "        -0.22528046, -0.66929854,  3.4553425 ,  0.61662261,  0.50360151,\n",
       "        -0.28280057,  3.50659128, -0.13229478,  1.18604519,  1.17736048,\n",
       "        -0.4308203 ,  0.95191111, -0.07108199, -0.00906138,  0.60175665,\n",
       "         1.90745971, -0.64875472, -0.64835039, -0.17563511, -0.66180723,\n",
       "         0.13191341, -0.35942048, -1.16762498, -0.52389304, -0.98968236,\n",
       "        -0.50928902,  1.0718466 , -0.33415066,  0.46534105, -0.52521034,\n",
       "         0.37926859,  0.        , -0.00906138, -0.1488685 ,  1.32666689,\n",
       "         0.61758087,  0.50005326, -0.35198632,  0.        ,  1.96573118,\n",
       "         1.01065053,  0.15640944,  2.18882087, -0.07324786,  1.04880885,\n",
       "        -0.35614428, -0.82658963,  1.13915744, -0.81775408, -0.44297702,\n",
       "         0.        , -0.30264414,  0.30264414,  0.41370744, -0.41370744,\n",
       "         0.17149859, -0.17149859,  0.02026518, -0.02026518],\n",
       "       [-0.46579523, -0.46579523,  0.35168119, -0.19171582, -0.10342722,\n",
       "         0.19656111, -0.47399389,  2.17065294, -0.69540144,  0.53940249,\n",
       "        -0.35198632, -0.35434622, -0.35033533,  0.19594864,  0.19607818,\n",
       "         0.73626853,  0.73642598,  0.5111436 ,  0.84797841, -0.15098128,\n",
       "         0.        ,  0.        ,  0.04833428, -0.13312632,  0.        ,\n",
       "        -0.00906138, -0.13971415, -0.55174862, -0.87151665, -0.43595292,\n",
       "        -0.88114535, -0.61056387,  0.22079871, -0.50796404, -0.8324955 ,\n",
       "        -0.86265931,  0.45341957, -0.33294113, -0.42260779, -0.50025826,\n",
       "        -0.28280057, -0.57849729, -0.53462945, -0.01581262, -0.62421248,\n",
       "        -0.44826039,  0.19903503, -0.07108199, -0.00906138,  0.68543587,\n",
       "        -0.22840322, -0.04294857,  1.00913171, -0.17563511, -0.19414972,\n",
       "         0.46744758,  0.32396095,  0.39721669,  0.61025799,  0.22223451,\n",
       "        -0.07261729, -0.58913904,  0.83275   ,  0.09025145,  0.60801587,\n",
       "         0.54180655,  0.        , -0.00906138, -0.1488685 , -1.18871336,\n",
       "        -1.06984397,  0.00725535, -0.35198632,  0.        , -0.34426463,\n",
       "        -0.58504434, -0.47917873, -0.39990527, -0.07324786,  1.04880885,\n",
       "        -0.35614428, -0.82658963, -0.87784178,  1.22286152, -0.44297702,\n",
       "         0.        , -0.30264414,  0.30264414,  0.41370744, -0.41370744,\n",
       "         0.17149859, -0.17149859,  0.02026518, -0.02026518],\n",
       "       [ 1.3364188 ,  1.3364188 ,  0.25400339, -0.32080462, -0.20434179,\n",
       "         0.63591256, -0.47315715, -0.32002561, -0.69540144, -0.11053789,\n",
       "        -0.35198632, -0.03918722,  0.92403935,  0.26097733,  0.26110155,\n",
       "         0.11867339,  0.11882174,  0.08372878,  0.13508702, -0.15098128,\n",
       "         0.        ,  0.        ,  0.01248381, -0.13312632,  0.        ,\n",
       "        -0.00906138, -0.13971415,  2.69218431, -0.04305549,  1.17957176,\n",
       "         0.12620873,  0.01389393, -0.66387302,  1.03487895,  1.69293782,\n",
       "        -0.86265931, -1.04353792,  0.91574945,  2.20281637, -0.37254073,\n",
       "         0.34267809, -0.57849729, -0.13229478, -0.61674152,  2.52865587,\n",
       "        -0.50682069,  0.83773085, -0.07108199, -0.00906138,  2.174926  ,\n",
       "         0.76764824,  0.98692188, -0.31685397,  1.01813477,  5.01689106,\n",
       "        -0.37138784,  0.32396095, -0.38520415, -0.80743079, -0.68670314,\n",
       "        -0.50928902,  2.09399161, -0.91760098, -0.78495764, -0.8085169 ,\n",
       "        -0.1083453 ,  0.        , -0.00906138, -0.1488685 , -0.68563731,\n",
       "        -0.99109748,  0.00725535, -0.35198632,  0.        ,  2.23088168,\n",
       "         0.87544657, -0.2146793 ,  0.65519622, -0.07324786,  1.04880885,\n",
       "        -0.35614428, -0.82658963, -0.87784178,  1.22286152, -0.44297702,\n",
       "         0.        , -0.30264414,  0.30264414,  0.41370744, -0.41370744,\n",
       "         0.17149859, -0.17149859,  0.02026518, -0.02026518],\n",
       "       [-1.76634561, -1.76634561, -1.40651925, -0.32080462, -1.38805983,\n",
       "        -0.26653907, -0.188665  , -0.32002561, -0.69540144, -0.11053789,\n",
       "         2.68212079, -0.38868055, -0.42998375, -1.19535066, -1.19510738,\n",
       "        -1.26940769, -1.26927982, -1.06053603, -1.14512038, -0.15098128,\n",
       "         0.        ,  0.        , -0.42547557,  6.48515372,  0.        ,\n",
       "        -0.00906138,  0.28922512, -0.78467867,  0.78540566,  0.21025696,\n",
       "         1.13356281,  0.01389393, -0.44270508, -0.63211542,  0.34002712,\n",
       "         0.4120984 ,  0.45341957, -0.68662832, -0.47730412, -0.35466028,\n",
       "         1.59363541,  0.7831989 , -0.13229478,  0.28465183, -0.76090861,\n",
       "        -0.10265865, -0.64661251, -0.07108199, -0.00906138,  0.18336055,\n",
       "        -0.18732893, -0.70933534, -0.81409859, -0.77252005, -0.69521133,\n",
       "         0.13191341, -0.35942048,  0.39721669,  0.04318247,  0.22223451,\n",
       "        -0.29095315, -0.20583466, -0.13966721, -0.28483816,  0.04140276,\n",
       "        -0.1083453 ,  0.        , -0.00906138, -0.1488685 ,  0.82359084,\n",
       "         0.61758087, -0.48259167,  2.68212079,  0.        , -0.81595289,\n",
       "        -0.70600738, -0.32126862, -0.78382994, -0.07324786, -0.95346259,\n",
       "        -0.35614428,  1.20979016,  1.13915744, -0.81775408, -0.44297702,\n",
       "         0.        , -0.30264414,  0.30264414,  0.41370744, -0.41370744,\n",
       "         0.17149859, -0.17149859,  0.02026518, -0.02026518],\n",
       "       [-0.18566233, -0.18566233,  1.23078141,  0.38538705,  1.8578727 ,\n",
       "         0.25593293,  0.21673631, -0.32002561,  1.75966799,  0.0519472 ,\n",
       "        -0.35198632,  2.11608799,  2.1187656 ,  0.83627051,  0.83634771,\n",
       "         1.68859398,  1.68876548,  1.42919623,  1.49302241, -0.15098128,\n",
       "         0.        ,  0.        ,  0.74509715, -0.13312632,  0.        ,\n",
       "        -0.00906138, -0.13971415,  0.47916831,  0.78540566, -0.11284798,\n",
       "         0.12620873,  0.63835173, -0.66387302, -0.01352566,  0.15963902,\n",
       "        -0.22528046, -0.66929854,  2.54806605,  0.89010429,  1.21626531,\n",
       "         0.34267809,  3.16616724,  0.2700399 , -0.31627707,  0.3340485 ,\n",
       "         0.16651604,  0.93763858, -0.07108199, -0.00906138,  0.83605847,\n",
       "         2.10256258, -0.76991595, -0.9798468 ,  0.42124983,  0.37372011,\n",
       "        -1.21022326, -0.35942048,  0.7884271 ,  0.89379574,  0.22223451,\n",
       "         2.54741309,  0.94407848,  0.05481623,  2.3407891 ,  0.89132242,\n",
       "         0.05419267,  0.        , -0.00906138, -0.1488685 , -0.18256126,\n",
       "         0.61758087,  0.99285116, -0.35198632,  0.        ,  0.43802553,\n",
       "         0.7908996 ,  2.03159192,  0.04908226, -0.07324786,  1.04880885,\n",
       "        -0.35614428, -0.82658963, -0.87784178,  1.22286152, -0.44297702,\n",
       "         0.        , -0.30264414,  0.30264414,  0.41370744, -0.41370744,\n",
       "         0.17149859, -0.17149859,  0.02026518, -0.02026518]])"
      ]
     },
     "execution_count": 24,
     "metadata": {},
     "output_type": "execute_result"
    }
   ],
   "source": [
    "X_train_scaled[0:5,:]"
   ]
  },
  {
   "cell_type": "code",
   "execution_count": 34,
   "metadata": {},
   "outputs": [
    {
     "data": {
      "text/plain": [
       "0.7205444491705657"
      ]
     },
     "execution_count": 34,
     "metadata": {},
     "output_type": "execute_result"
    }
   ],
   "source": [
    "# Train the Logistic Regression model on the scaled data and print the model score\n",
    "\n",
    "# Model\n",
    "LR_model = LogisticRegression(random_state= 77,max_iter=300)\n",
    "# Fit\n",
    "LR_model.fit(X_train_scaled,y_train)\n",
    "# Predict\n",
    "predictions = LR_model.predict(X_test_scaled)\n",
    "# Score\n",
    "LR_model.score(X_test_scaled,y_test)\n"
   ]
  },
  {
   "cell_type": "code",
   "execution_count": 35,
   "metadata": {},
   "outputs": [
    {
     "data": {
      "text/plain": [
       "array(['low_risk', 'low_risk', 'low_risk', ..., 'high_risk', 'low_risk',\n",
       "       'high_risk'], dtype=object)"
      ]
     },
     "execution_count": 35,
     "metadata": {},
     "output_type": "execute_result"
    }
   ],
   "source": [
    "predictions"
   ]
  },
  {
   "cell_type": "code",
   "execution_count": 36,
   "metadata": {},
   "outputs": [
    {
     "data": {
      "text/plain": [
       "array([[1243, 1108],\n",
       "       [ 206, 2145]], dtype=int64)"
      ]
     },
     "execution_count": 36,
     "metadata": {},
     "output_type": "execute_result"
    }
   ],
   "source": [
    "# Examine Confusion Matrix\n",
    "CM = confusion_matrix(y_test,predictions)\n",
    "CM"
   ]
  },
  {
   "cell_type": "code",
   "execution_count": 38,
   "metadata": {},
   "outputs": [
    {
     "data": {
      "text/plain": [
       "<sklearn.metrics._plot.confusion_matrix.ConfusionMatrixDisplay at 0x25a8adba820>"
      ]
     },
     "execution_count": 38,
     "metadata": {},
     "output_type": "execute_result"
    },
    {
     "data": {
      "image/png": "[encoded data removed]",
      "text/plain": [
       "<Figure size 432x288 with 2 Axes>"
      ]
     },
     "metadata": {
      "needs_background": "light"
     },
     "output_type": "display_data"
    }
   ],
   "source": [
    "# Visualize Confusion Matrix\n",
    "disp = ConfusionMatrixDisplay(confusion_matrix= CM, display_labels= LR_model.classes_)\n",
    "disp.plot()"
   ]
  },
  {
   "cell_type": "code",
   "execution_count": 40,
   "metadata": {},
   "outputs": [
    {
     "name": "stdout",
     "output_type": "stream",
     "text": [
      "              precision    recall  f1-score   support\n",
      "\n",
      "   high_risk       0.86      0.53      0.65      2351\n",
      "    low_risk       0.66      0.91      0.77      2351\n",
      "\n",
      "    accuracy                           0.72      4702\n",
      "   macro avg       0.76      0.72      0.71      4702\n",
      "weighted avg       0.76      0.72      0.71      4702\n",
      "\n"
     ]
    }
   ],
   "source": [
    "# Examine the classification report\n",
    "# print(classification_report(y_true, y_pred, target_names=target_names))\n",
    "report = classification_report(y_test,predictions)\n",
    "print(report)"
   ]
  },
  {
   "cell_type": "code",
   "execution_count": 41,
   "metadata": {},
   "outputs": [
    {
     "data": {
      "text/plain": [
       "0.6558911101658869"
      ]
     },
     "execution_count": 41,
     "metadata": {},
     "output_type": "execute_result"
    }
   ],
   "source": [
    "# Train a Random Forest Classifier model on the scaled data and print the model score\n",
    "#Model\n",
    "RFC_model = RandomForestClassifier(random_state= 77)\n",
    "# Fit\n",
    "RFC_model.fit(X_train_scaled,y_train)\n",
    "# Predict\n",
    "predictions = RFC_model.predict(X_test_scaled)\n",
    "#Score\n",
    "RFC_model.score(X_test_scaled,y_test)"
   ]
  },
  {
   "cell_type": "code",
   "execution_count": 42,
   "metadata": {},
   "outputs": [
    {
     "data": {
      "text/plain": [
       "<sklearn.metrics._plot.confusion_matrix.ConfusionMatrixDisplay at 0x25a8adba5b0>"
      ]
     },
     "execution_count": 42,
     "metadata": {},
     "output_type": "execute_result"
    },
    {
     "data": {
      "image/png": "[encoded data removed]",
      "text/plain": [
       "<Figure size 432x288 with 2 Axes>"
      ]
     },
     "metadata": {
      "needs_background": "light"
     },
     "output_type": "display_data"
    }
   ],
   "source": [
    "# Examine Confusion Matrix\n",
    "CM = confusion_matrix(y_test,predictions)\n",
    "CM\n",
    "# Visualize Confusion Matrix\n",
    "disp = ConfusionMatrixDisplay(confusion_matrix= CM, display_labels= RFC_model.classes_)\n",
    "disp.plot()"
   ]
  },
  {
   "cell_type": "code",
   "execution_count": 43,
   "metadata": {},
   "outputs": [
    {
     "name": "stdout",
     "output_type": "stream",
     "text": [
      "              precision    recall  f1-score   support\n",
      "\n",
      "   high_risk       0.78      0.43      0.56      2351\n",
      "    low_risk       0.61      0.88      0.72      2351\n",
      "\n",
      "    accuracy                           0.66      4702\n",
      "   macro avg       0.69      0.66      0.64      4702\n",
      "weighted avg       0.69      0.66      0.64      4702\n",
      "\n"
     ]
    }
   ],
   "source": [
    "report = classification_report(y_test,predictions)\n",
    "print(report)"
   ]
  },
  {
   "cell_type": "code",
   "execution_count": 48,
   "metadata": {},
   "outputs": [
    {
     "data": {
      "text/html": [
       "<div>\n",
       "<style scoped>\n",
       "    .dataframe tbody tr th:only-of-type {\n",
       "        vertical-align: middle;\n",
       "    }\n",
       "\n",
       "    .dataframe tbody tr th {\n",
       "        vertical-align: top;\n",
       "    }\n",
       "\n",
       "    .dataframe thead th {\n",
       "        text-align: right;\n",
       "    }\n",
       "</style>\n",
       "<table border=\"1\" class=\"dataframe\">\n",
       "  <thead>\n",
       "    <tr style=\"text-align: right;\">\n",
       "      <th></th>\n",
       "      <th>feature</th>\n",
       "      <th>importance</th>\n",
       "    </tr>\n",
       "  </thead>\n",
       "  <tbody>\n",
       "    <tr>\n",
       "      <th>22</th>\n",
       "      <td>last_pymnt_amnt</td>\n",
       "      <td>0.093411</td>\n",
       "    </tr>\n",
       "    <tr>\n",
       "      <th>17</th>\n",
       "      <td>total_rec_prncp</td>\n",
       "      <td>0.053537</td>\n",
       "    </tr>\n",
       "    <tr>\n",
       "      <th>0</th>\n",
       "      <td>Unnamed: 0</td>\n",
       "      <td>0.040934</td>\n",
       "    </tr>\n",
       "    <tr>\n",
       "      <th>15</th>\n",
       "      <td>total_pymnt</td>\n",
       "      <td>0.040286</td>\n",
       "    </tr>\n",
       "    <tr>\n",
       "      <th>1</th>\n",
       "      <td>index</td>\n",
       "      <td>0.039966</td>\n",
       "    </tr>\n",
       "    <tr>\n",
       "      <th>16</th>\n",
       "      <td>total_pymnt_inv</td>\n",
       "      <td>0.037851</td>\n",
       "    </tr>\n",
       "    <tr>\n",
       "      <th>18</th>\n",
       "      <td>total_rec_int</td>\n",
       "      <td>0.037202</td>\n",
       "    </tr>\n",
       "    <tr>\n",
       "      <th>4</th>\n",
       "      <td>installment</td>\n",
       "      <td>0.031595</td>\n",
       "    </tr>\n",
       "    <tr>\n",
       "      <th>3</th>\n",
       "      <td>int_rate</td>\n",
       "      <td>0.031026</td>\n",
       "    </tr>\n",
       "    <tr>\n",
       "      <th>14</th>\n",
       "      <td>out_prncp_inv</td>\n",
       "      <td>0.030951</td>\n",
       "    </tr>\n",
       "  </tbody>\n",
       "</table>\n",
       "</div>"
      ],
      "text/plain": [
       "            feature  importance\n",
       "22  last_pymnt_amnt    0.093411\n",
       "17  total_rec_prncp    0.053537\n",
       "0        Unnamed: 0    0.040934\n",
       "15      total_pymnt    0.040286\n",
       "1             index    0.039966\n",
       "16  total_pymnt_inv    0.037851\n",
       "18    total_rec_int    0.037202\n",
       "4       installment    0.031595\n",
       "3          int_rate    0.031026\n",
       "14    out_prncp_inv    0.030951"
      ]
     },
     "execution_count": 48,
     "metadata": {},
     "output_type": "execute_result"
    }
   ],
   "source": [
    "# Feature importances\n",
    "feature_importance = RFC_model.feature_importances_\n",
    "#feature_importance\n",
    "\n",
    "columns = X_train.columns\n",
    "# Create DF\n",
    "feature_importance_df = pd.DataFrame({\"feature\":columns,\"importance\":feature_importance})\n",
    "feature_importance_df\n",
    "\n",
    "# Top 10 feature importance\n",
    "top10_features = feature_importance_df.sort_values(\"importance\",ascending=False)\n",
    "top10_features.head(10)"
   ]
  },
  {
   "cell_type": "code",
   "execution_count": null,
   "metadata": {},
   "outputs": [],
   "source": []
  }
 ],
 "metadata": {
  "kernelspec": {
   "display_name": "Python 3",
   "language": "python",
   "name": "python3"
  },
  "language_info": {
   "codemirror_mode": {
    "name": "ipython",
    "version": 3
   },
   "file_extension": ".py",
   "mimetype": "text/x-python",
   "name": "python",
   "nbconvert_exporter": "python",
   "pygments_lexer": "ipython3",
   "version": "3.8.8"
  }
 },
 "nbformat": 4,
 "nbformat_minor": 4
}
